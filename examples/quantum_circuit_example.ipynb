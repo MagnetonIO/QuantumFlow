from quantumflow import QuantumCircuitSimulator

qc = QuantumCircuitSimulator(num_qubits=2)
qc.apply_gate('H', 0)
qc.apply_gate('CX', 1)
result = qc.simulate()
print(result)
