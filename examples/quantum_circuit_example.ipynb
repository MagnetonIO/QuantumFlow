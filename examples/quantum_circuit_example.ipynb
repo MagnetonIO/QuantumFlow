{
 "cells": [
  {
   "cell_type": "code",
   "execution_count": null,
   "metadata": {},
   "outputs": [],
   "source": [
    "from quantumflow import QuantumCircuitSimulator\n",
    "\n",
    "# Initialize a quantum circuit simulator with 2 qubits\n",
    "qc = QuantumCircuitSimulator(num_qubits=2)\n",
    "\n",
    "# Apply Hadamard and CNOT gates\n",
    "qc.apply_gate('H', 0)\n",
    "qc.apply_gate('CX', 1)\n",
    "\n",
    "# Simulate and print the result\n",
    "result = qc.simulate()\n",
    "print(result)"
   ]
  }
 ],
 "metadata": {
  "kernelspec": {
   "display_name": "Python 3",
   "language": "python",
   "name": "python3"
  },
  "language_info": {
   "name": "python",
   "version": "3.12"
  }
 },
 "nbformat": 4,
 "nbformat_minor": 5
}
