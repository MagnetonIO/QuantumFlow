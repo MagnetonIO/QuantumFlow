from quantumflow import DerivedHamiltonian, visualize_phase_space
import numpy as np
import plotly.graph_objects as go

# Initialize Derived Hamiltonian
dh = DerivedHamiltonian(q0=1.0, p0=0.0, g=[[1, 0], [0, 1]], order=3)

# Simulate over 1000 steps
trajectory = dh.evolve(steps=1000, dt=0.01)

# Prepare data for animation
q_vals, p_vals, H_vals = trajectory.T

# Create 3D scatter plot with Plotly
fig = go.Figure(data=[go.Scatter3d(
    x=q_vals,
    y=p_vals,
    z=H_vals,
    mode='markers',
    marker=dict(
        size=5,
        color=H_vals,
        colorscale='Viridis',
        opacity=0.8
    )
)])

fig.update_layout(
    title="Phase Space Evolution of Derived Hamiltonian",
    scene=dict(
        xaxis_title="Position (q)",
        yaxis_title="Momentum (p)",
        zaxis_title="Energy (R^nH)"
    )
)

# Show the animation
fig.show()
