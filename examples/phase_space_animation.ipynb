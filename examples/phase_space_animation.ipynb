{
 "cells": [
  {
   "cell_type": "code",
   "execution_count": null,
   "metadata": {},
   "outputs": [],
   "source": [
    "from quantumflow import DerivedHamiltonian\n",
    "import plotly.graph_objects as go\n",
    "\n",
    "# Initialize Derived Hamiltonian\n",
    "dh = DerivedHamiltonian(q0=1.0, p0=0.0, g=[[1, 0], [0, 1]], order=3)\n",
    "\n",
    "# Simulate over 1000 steps\n",
    "trajectory = dh.evolve(steps=1000, dt=0.01)\n",
    "\n",
    "# Extract simulation data\n",
    "q_vals, p_vals, H_vals = trajectory.T\n",
    "\n",
    "fig = go.Figure(data=[go.Scatter3d(\n",
    "    x=q_vals,\n",
    "    y=p_vals,\n",
    "    z=H_vals,\n",
    "    mode='markers',\n",
    "    marker=dict(size=5, color=H_vals, colorscale='Viridis', opacity=0.8)\n",
    ")])\n",
    "\n",
    "fig.update_layout(\n",
    "    title=\"Phase Space Visualization\",\n",
    "    scene=dict(\n",
    "        xaxis_title=\"Position (q)\",\n",
    "        yaxis_title=\"Momentum (p)\",\n",
    "        zaxis_title=\"Energy (R^nH)\"\n",
    "    )\n",
    ")\n",
    "fig.show()"
   ]
  }
 ],
 "metadata": {
  "kernelspec": {
   "display_name": "Python 3",
   "language": "python",
   "name": "python3"
  },
  "language_info": {
   "name": "python",
   "version": "3.12"
  }
 },
 "nbformat": 4,
 "nbformat_minor": 5
}
