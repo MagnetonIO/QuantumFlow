from quantumflow import DerivedHamiltonian, visualize_phase_space

dh = DerivedHamiltonian(q0=1.0, p0=0.0, g=[[1, 0], [0, 1]], order=3)
trajectory = dh.evolve(steps=1000, dt=0.01)
visualize_phase_space(trajectory)
