{
 "cells": [
  {
   "cell_type": "code",
   "execution_count": null,
   "metadata": {},
   "outputs": [],
   "source": [
    "from quantumflow import DerivedHamiltonian, visualize_phase_space\n",
    "\n",
    "# Initialize QFT Hamiltonian simulation\n",
    "dh = DerivedHamiltonian(q0=1.0, p0=0.0, g=[[1, 0], [0, 1]], order=4)\n",
    "\n",
    "# Simulate and visualize\n",
    "trajectory = dh.evolve(steps=1000, dt=0.01)\n",
    "visualize_phase_space(trajectory)"
   ]
  }
 ],
 "metadata": {
  "kernelspec": {
   "display_name": "Python 3",
   "language": "python",
   "name": "python3"
  },
  "language_info": {
   "name": "python",
   "version": "3.12"
  }
 },
 "nbformat": 4,
 "nbformat_minor": 5
}
