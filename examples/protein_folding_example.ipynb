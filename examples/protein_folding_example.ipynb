{
 "cells": [
  {
   "cell_type": "code",
   "execution_count": null,
   "metadata": {},
   "outputs": [],
   "source": [
    "from quantumflow import DerivedHamiltonian\n",
    "import matplotlib.pyplot as plt\n",
    "\n",
    "# Initialize Derived Hamiltonian for protein folding\n",
    "dh = DerivedHamiltonian(q0=2.0, p0=0.0, g=[[1, 0], [0, 1]], order=3)\n",
    "\n",
    "# Simulate folding process over 800 steps\n",
    "trajectory = dh.evolve(steps=800, dt=0.01)\n",
    "\n",
    "# Extract and plot the simulation\n",
    "q_vals, p_vals, H_vals = trajectory.T\n",
    "time = range(len(q_vals))\n",
    "\n",
    "plt.figure(figsize=(10, 6))\n",
    "plt.plot(time, q_vals, label='Folding Coordinate (q)')\n",
    "plt.plot(time, H_vals, label='Energy (R^nH)')\n",
    "plt.title(\"Protein Folding Simulation\")\n",
    "plt.xlabel(\"Time Steps\")\n",
    "plt.ylabel(\"Coordinate / Energy\")\n",
    "plt.legend()\n",
    "plt.show()"
   ]
  }
 ],
 "metadata": {
  "kernelspec": {
   "display_name": "Python 3",
   "language": "python",
   "name": "python3"
  },
  "language_info": {
   "name": "python",
   "version": "3.12"
  }
 },
 "nbformat": 4,
 "nbformat_minor": 5
}
