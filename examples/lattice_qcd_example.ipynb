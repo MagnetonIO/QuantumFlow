from quantumflow import LatticeQCD

qcd_sim = LatticeQCD(lattice_size=10)
qcd_sim.evolve(steps=200)
print("Lattice QCD Action:", qcd_sim.compute_action())
