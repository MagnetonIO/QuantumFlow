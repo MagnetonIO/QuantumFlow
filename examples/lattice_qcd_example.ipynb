{
 "cells": [
  {
   "cell_type": "code",
   "execution_count": null,
   "metadata": {},
   "outputs": [],
   "source": [
    "from quantumflow import LatticeQCD\n",
    "\n",
    "# Initialize Lattice QCD simulation\n",
    "qcd_sim = LatticeQCD(lattice_size=10)\n",
    "\n",
    "# Evolve the lattice QCD system over 200 steps\n",
    "qcd_sim.evolve(steps=200)\n",
    "\n",
    "# Print the final QCD action\n",
    "print(\"Lattice QCD Action:\", qcd_sim.compute_action())"
   ]
  }
 ],
 "metadata": {
  "kernelspec": {
   "display_name": "Python 3",
   "language": "python",
   "name": "python3"
  },
  "language_info": {
   "name": "python",
   "version": "3.12"
  }
 },
 "nbformat": 4,
 "nbformat_minor": 5
}
